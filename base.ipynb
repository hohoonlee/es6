{
 "cells": [
  {
   "cell_type": "markdown",
   "metadata": {},
   "source": [
    "## 프래그램을 공부하는 도움이 될만한 것들\n",
    "---\n",
    "프로그램을 공부하는데 알면 도움이 될 만한 것들을 정리하려고 한다.<br>\n",
    "여기서 정리하는 것들은 직접적인 언어나 알고리즘보다는 더 바탕이 되는, 아마도 수학에 가까운 것들이다.<br>\n",
    "몰라도 프로그램을 공부할 수 있지만, 알면 좋은 정도의 야이기다.<br>\n",
    "여기서 사용하는 코드는 javascript를 사용했다.<br>"
   ]
  },
  {
   "cell_type": "markdown",
   "metadata": {},
   "source": [
    "### 10 << 2는 왜 40일까?"
   ]
  },
  {
   "cell_type": "code",
   "execution_count": 1,
   "metadata": {},
   "outputs": [
    {
     "data": {
      "text/plain": [
       "40"
      ]
     },
     "execution_count": 1,
     "metadata": {},
     "output_type": "execute_result"
    }
   ],
   "source": [
    "10 << 2"
   ]
  },
  {
   "cell_type": "markdown",
   "metadata": {},
   "source": [
    "프로그램 언어를 배우면 항상 초반부에 비트연산자가 나온다.<br>\n",
    "그러면서 곱하기, 나누기를 더 빠르게 한다는 최적화 기법으로 <<, >>의 사용예를 든다.<br>\n",
    "이해가 안갔지만, 그냥 외웠다.<br>\n",
    "당연한 걸 왜 설명하냐면 여기서 그만 읽어도 좋다.<br>"
   ]
  },
  {
   "cell_type": "markdown",
   "metadata": {},
   "source": [
    "먼저 이해해야 할 것은 기수법이다.<br>\n",
    "기수법은 수를 나타내기 위한 표기법을 이야기한다.<br>\n",
    "그 중 위치기수법은 표기의 위치가 값을 나타내는데 중요한 역할을 하는 방식이다.<br>\n",
    "위치적 기수법이라는 말을 처음 듣는 사람도 있을 수 있지만, 아미도 모르는 사람은 없을 것 같다.<br>\n",
    "```\n",
    "103, 13\n",
    "```\n",
    "이렇게 우리가 일반적으로 수를 표기하는 방식이다. 특히 십진수의 표기법을 주로 사용하고 있다.<br>\n",
    "\n",
    "만약, 누군가 *십심*를 써보라고 했들 때, *103*라고 쓴다면 아마도 비웃음을 살 것이다.<br>\n",
    "하지만, 로마숫자에서는 오히려 XIII라고 써야한다.<br>\n",
    "\n",
    "위의 로마숫자같은 경우는 X + I + I + I의 값을 나타낸다.<br>\n",
    "반면, 위치가 의미가 있는 13인 경우에는 (1 * 10) + (3 * 1)을 나타내게 된다.<br>\n",
    "103라면 (1 * 10^2) + (0 * 10^1) + (3 * 1)이 될 것이다.<br>\n"
   ]
  },
  {
   "cell_type": "markdown",
   "metadata": {},
   "source": [
    "위치가 의미가 있으려면, 없는 자리수를 나타내는 표기법도 필요하게 된다.<br>\n",
    "여기서 발생한 표기가 0이다.<br>\n",
    "0은 없음을 나타내는 표기법이다.<br>만약, 0이 없다면, 104와 14를 어떻게 구분해서 표시할 수 없을 것이다.<br>\n",
    "위의 예처럼 14와 104의 구분을 위해서는 0이 필요하다."
   ]
  }
 ],
 "metadata": {
  "kernelspec": {
   "display_name": "Javascript (Node.js)",
   "language": "javascript",
   "name": "javascript"
  },
  "language_info": {
   "file_extension": ".js",
   "mimetype": "application/javascript",
   "name": "javascript",
   "version": "12.16.3"
  }
 },
 "nbformat": 4,
 "nbformat_minor": 4
}
