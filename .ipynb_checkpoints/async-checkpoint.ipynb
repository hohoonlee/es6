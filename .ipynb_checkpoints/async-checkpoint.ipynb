{
 "cells": [
  {
   "cell_type": "markdown",
   "metadata": {},
   "source": [
    "# Asynchronous Programming\n",
    "- 아래의 용어들과 혼용되지만, 주 실행흐름을 멈추지 않는 프로그래밍 방식을 말한다.\n",
    "\n",
    "- Synchronous  : 통지 모델. application이 kernel을 체크한다.\n",
    "- Asynchronous : 통지 모델. kernel이 application에게 결과를 통지한다.\n",
    "- Blocking     : application이 Kernel의 응답을 대기한다. (결과가 나왔을 때 return)\n",
    "- Not-blocking : application이 kernel의 응답을 대기하지 않는다. (결과에 상관 없이 return)\n",
    "\n",
    "- Concurrency  : 실행 순서와 무관하게 동작\n",
    "- Parallelism  : 많은 작업을 물리적으로 동시에 수행."
   ]
  },
  {
   "cell_type": "markdown",
   "metadata": {},
   "source": [
    "## 기본 라이브러리"
   ]
  },
  {
   "cell_type": "code",
   "execution_count": null,
   "metadata": {},
   "outputs": [],
   "source": [
    "const _ = require('./underscore-min.js');"
   ]
  },
  {
   "cell_type": "markdown",
   "metadata": {},
   "source": [
    "1.0 학생, 과목 정보 확인\n",
    "  - const, let\n",
    "  - scope\n",
    "  - sync / async"
   ]
  },
  {
   "cell_type": "code",
   "execution_count": null,
   "metadata": {},
   "outputs": [],
   "source": [
    "{\n",
    "    const fs = require('fs');\n",
    "    const student = fs.readFileSync('./data/학생.csv', {encoding:'UTF-8'});\n",
    "    const subject = fs.readFileSync('./data/교과목.csv', {encoding:'UTF-8'});\n",
    "    console.log(student, subject);\n",
    "}"
   ]
  },
  {
   "cell_type": "markdown",
   "metadata": {},
   "source": [
    "1.1 중복제거\n",
    "  - 함수만들기"
   ]
  },
  {
   "cell_type": "code",
   "execution_count": null,
   "metadata": {},
   "outputs": [],
   "source": [
    "{\n",
    "    const readFile = filename => {\n",
    "        const fs = require('fs');\n",
    "        return fs.readFileSync(`./data/${filename}`, {encoding:'UTF-8'});\n",
    "    };\n",
    "    console.log(readFile('학생.csv'), readFile('교과목.csv'));\n",
    "}"
   ]
  },
  {
   "cell_type": "markdown",
   "metadata": {},
   "source": [
    "1.2 좀 더 줄여보기\n",
    "  - 화살표 함수의 생략"
   ]
  },
  {
   "cell_type": "code",
   "execution_count": null,
   "metadata": {},
   "outputs": [],
   "source": [
    "{\n",
    "    const readFile = filename => require('fs').readFileSync(`./data/${filename}`, {encoding:'UTF-8'});\n",
    "    console.log(readFile('학생.csv'), readFile('교과목.csv'));\n",
    "}"
   ]
  },
  {
   "cell_type": "markdown",
   "metadata": {},
   "source": [
    "2.0 JSON으로 파싱하기\n",
    "  - 함수 반환 하기\n",
    "  - _.map\n",
    "  - _.reduce"
   ]
  },
  {
   "cell_type": "code",
   "execution_count": null,
   "metadata": {},
   "outputs": [],
   "source": [
    "{\n",
    "    const readFile = filename => require('fs').readFileSync(`./data/${filename}`, {encoding:'UTF-8'});\n",
    "    const csvToObj = csv => {\n",
    "        const array = csv.split('\\n');\n",
    "        const head  = array.shift().split(',');\n",
    "        return _.map(array, data=>{\n",
    "            return _.reduce(data.split(','), (m, v, i)=>{\n",
    "                m[head[i]] = v;\n",
    "                return m;\n",
    "            }, {});\n",
    "        });\n",
    "    };\n",
    "    console.log(csvToObj(readFile('학생.csv')), csvToObj(readFile('교과목.csv')));\n",
    "}"
   ]
  },
  {
   "cell_type": "markdown",
   "metadata": {},
   "source": [
    "4.1 COMPOSE 사용해 보기"
   ]
  },
  {
   "cell_type": "code",
   "execution_count": null,
   "metadata": {},
   "outputs": [],
   "source": [
    "{\n",
    "    const readFile  = filename => require('fs').readFileSync(`./data/${filename}`, {encoding:'UTF-8'});\n",
    "    const splitCr   = text => text.split('\\n');\n",
    "    const splitComma= text => text.split(',');\n",
    "    const makeFunctionObjWithHeader = header => array => _.reduce(array, (m, v, i)=>(m[header[i]]=v,m),{});\n",
    "    const csvToObj = csv => {\n",
    "        const [header, ...body] = splitCr(csv);\n",
    "        const funcArrayToObj = _.compose(\n",
    "            _.compose(makeFunctionObjWithHeader, splitComma)(header),\n",
    "            splitComma\n",
    "        );\n",
    "        return _.map(body, funcArrayToObj);\n",
    "    };\n",
    "    console.log(csvToObj(readFile('학생.csv')), csvToObj(readFile('교과목.csv')));\n",
    "}"
   ]
  },
  {
   "cell_type": "markdown",
   "metadata": {},
   "source": [
    "5. 줄여보기"
   ]
  },
  {
   "cell_type": "code",
   "execution_count": null,
   "metadata": {},
   "outputs": [],
   "source": [
    "{\n",
    "    const readFile = filename => require('fs').readFileSync(`./data/${filename}`, {encoding:'UTF-8'});\n",
    "    const csvToObj = csv => {\n",
    "        const [header, ...body]= csv.split('\\n');\n",
    "        return _.map(body, data=>_.reduce(data.split(','), (m, v, i)=>(m[header[i]]=v,m),{}));\n",
    "    };\n",
    "    console.log(csvToObj(readFile('학생.csv')), csvToObj(readFile('교과목.csv')));\n",
    "}"
   ]
  },
  {
   "cell_type": "code",
   "execution_count": null,
   "metadata": {},
   "outputs": [],
   "source": [
    "{\n",
    "    const readFile = filename => require('fs').readFileSync(`./data/${filename}`, {encoding:'UTF-8'});\n",
    "    const toJSON = csv => {\n",
    "        const array = csv.split('\\n');\n",
    "        const head  = array.shift().split(',');\n",
    "        const func  = _.compose(\n",
    "            \n",
    "            data=>_.reduce(data, (m, v, i)=>(m[head[i]]=v,m),{}))\n",
    "            data=>data.split(',')\n",
    "            data\n",
    "        );\n",
    "        return _.map(array, data=>_.reduce(data.split(','), (m, v, i)=>(m[head[i]]=v,m),{}));\n",
    "    };\n",
    "    console.log(toJSON(readFile('학생.csv')), toJSON(readFile('교과목.csv')));\n",
    "}"
   ]
  },
  {
   "cell_type": "markdown",
   "metadata": {},
   "source": [
    "6. 시험 데이터 만들기"
   ]
  },
  {
   "cell_type": "code",
   "execution_count": null,
   "metadata": {},
   "outputs": [],
   "source": [
    "{\n",
    "    const readFile = filename => require('fs').readFileSync(`./data/${filename}`, {encoding:'UTF-8'});\n",
    "    const toJSON = csv => {\n",
    "        const array = csv.split('\\n');\n",
    "        const head  = array.shift().split(',');\n",
    "        return _.map(array, data=>_.reduce(data.split(','), (m, v, i)=>(m[head[i]]=v,m),{}));\n",
    "    };\n",
    "    const makeScore = () => Math.round(Math.random() * 41 + 60);\n",
    "    \n",
    "    const student = toJSON(readFile('학생.csv'));\n",
    "    const subject = toJSON(readFile('교과목.csv'));\n",
    "    \n",
    "    for(const i of student) {\n",
    "        for(const j of subject) {\n",
    "            console.log(`${i['학번']},${j['교과번호']},${makeScore()}`);\n",
    "        }\n",
    "    }\n",
    "}"
   ]
  },
  {
   "cell_type": "code",
   "execution_count": null,
   "metadata": {},
   "outputs": [],
   "source": [
    "{\n",
    "const fs = require('fs');\n",
    "const data = fs.readFileSync('./data/exam.csv', {encoding:'UTF-8'}).split('\\n');\n",
    "const examHeader = _.first(data).split(',');\n",
    "const examBody = _.map(_.rest(data), line => line.split(','));\n",
    "const examObj = _.map(examBody, v => ({[examHeader[0]]:v[0], [examHeader[1]]:v[1], [examHeader[2]]:v[2]}));\n",
    "console.log(examHeader, examBody, examObj);\n",
    "}"
   ]
  },
  {
   "cell_type": "code",
   "execution_count": null,
   "metadata": {},
   "outputs": [],
   "source": []
  },
  {
   "cell_type": "code",
   "execution_count": null,
   "metadata": {},
   "outputs": [],
   "source": []
  }
 ],
 "metadata": {
  "kernelspec": {
   "display_name": "Javascript (Node.js)",
   "language": "javascript",
   "name": "javascript"
  },
  "language_info": {
   "file_extension": ".js",
   "mimetype": "application/javascript",
   "name": "javascript",
   "version": "13.5.0"
  }
 },
 "nbformat": 4,
 "nbformat_minor": 2
}
