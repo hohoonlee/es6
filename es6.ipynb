{
 "cells": [
  {
   "cell_type": "markdown",
   "metadata": {},
   "source": [
    "# ES6 알아두면 좋을 것들\n",
    "\n",
    "- ES6 vs ES6+\n",
    "- ECMA2015 vs ES6\n",
    "- http://kangax.github.io/compat-table/es6/\n",
    "\n",
    "## 목차\n",
    "1. Function-level scope VS Block-level scope\n",
    "1. Arrow Functions\n",
    "1. Template literals\n",
    "1. Parameter (default, rest, spread)\n",
    "1. Destructuring assignment\n",
    "1. Property shorthand\n",
    "1. Promise\n",
    "1. Symbol\n",
    "1. Iteration Protocol\n",
    "1. Generator\n",
    "1. Class\n",
    "\n",
    "… module ...\n",
    "************"
   ]
  },
  {
   "cell_type": "code",
   "execution_count": 2,
   "metadata": {},
   "outputs": [],
   "source": [
    "//log util\n",
    "const log = (...p) => {\n",
    "\tconsole.log(...p.map(o=>(typeof o == 'object')?[...Object.keys(o)].map((k)=>`${k}=${o[k]}`).join(' '):o));\n",
    "}"
   ]
  },
  {
   "cell_type": "markdown",
   "metadata": {},
   "source": [
    "## Function-level scope VS Block-level scope\n",
    "|Function-level|Block-level|\n",
    "|---|---|\n",
    "|함수내에서 유효한 범위|코드 블록내에서 유효한 범위|\n",
    "|var로 정의|const, let으로 정의|\n",
    "|var 생략 가능|생략 불가 (생략하면 var)|\n",
    "|중복 선언도 가능| 중복 선언 불가 (const는 중복 할당 불가)|\n",
    "|변수 호이스팅|Temporal Dead Zone (선언와 초기화 사이)|\n",
    "|전역변수로 사용하면 전역 객체의 프로퍼티가 됨(window, global)|전역변수도 개념적인 블록에 존재|"
   ]
  },
  {
   "cell_type": "code",
   "execution_count": null,
   "metadata": {},
   "outputs": [],
   "source": [
    "//var {v:}\n",
    "{\n",
    "    console.log('A:', v); //호이스팅\n",
    "    var v = 100;\n",
    "    console.log('B:', v);\n",
    "    var v = 200;\n",
    "    console.log('C:', v); //변수 중복 선언\n",
    "}"
   ]
  },
  {
   "cell_type": "code",
   "execution_count": null,
   "metadata": {},
   "outputs": [],
   "source": [
    "//let\n",
    "{\n",
    "    let val = 10;\n",
    "    {\n",
    "        console.log('A:', val); //Temporal Dead Zone\n",
    "        //let val = 20; //중복 아님.\n",
    "    }\n",
    "}"
   ]
  },
  {
   "cell_type": "code",
   "execution_count": null,
   "metadata": {},
   "outputs": [],
   "source": [
    "//let의 정상적 사용\n",
    "{\n",
    "    let val = 10\n",
    "    {\n",
    "        let val = 20; //중복 아님.\n",
    "        console.log('A:', val);\n",
    "    }\n",
    "    console.log('B:', val);\n",
    "}"
   ]
  },
  {
   "cell_type": "code",
   "execution_count": null,
   "metadata": {},
   "outputs": [],
   "source": [
    "//var를 for문에서 사용했을 때\n",
    "{\n",
    "    var funcs = [];\n",
    "    for(var i = 0;i < 5; i++) {\n",
    "        funcs.push(function() {\n",
    "            log(i*10);\n",
    "        });\n",
    "    }\n",
    "    \n",
    "    log({i});\n",
    "    for(var x = 0; x < funcs.length; x++) {\n",
    "        funcs[x]();\n",
    "    }\n",
    "}"
   ]
  },
  {
   "cell_type": "code",
   "execution_count": null,
   "metadata": {},
   "outputs": [],
   "source": [
    "//var를 for문에서 사용했을 때 -> 클로져로 해결\n",
    "{\n",
    "    var funcs = [];\n",
    "    for(var i = 0;i < 5; i++) {\n",
    "        funcs.push((function(index) {\n",
    "            return function() {\n",
    "                log(index * 10);\n",
    "            };\n",
    "        })(i));\n",
    "    }\n",
    "    \n",
    "    for(var x = 0; x < funcs.length; x++) {\n",
    "        funcs[x]();\n",
    "    }\n",
    "}"
   ]
  },
  {
   "cell_type": "code",
   "execution_count": null,
   "metadata": {},
   "outputs": [],
   "source": [
    "//let을 for문에서 사용했을 대\n",
    "{\n",
    "    let funcs = [];\n",
    "    for(let xx = 0;xx < 5; xx++) {\n",
    "        funcs.push(()=>log(xx*10));\n",
    "    }\n",
    "    \n",
    "//     log({xx});\n",
    "    for(f of funcs) { //of구문\n",
    "        f();\n",
    "    }\n",
    "    //funcs.forEach(f=>f());\n",
    "}"
   ]
  },
  {
   "cell_type": "code",
   "execution_count": 2,
   "metadata": {},
   "outputs": [
    {
     "name": "stdout",
     "output_type": "stream",
     "text": [
      "100\n",
      "undefined\n"
     ]
    }
   ],
   "source": [
    "//전역변수로 정의\n",
    "var g = 100;\n",
    "log(global.g);\n",
    "let lg = 200;\n",
    "log(global.lg);"
   ]
  },
  {
   "cell_type": "markdown",
   "metadata": {},
   "source": [
    "### 정리\n",
    "- 가능한 var는 사용하지 않는다.\n",
    "- const를 먼저 고려한다.\n",
    "- 재할당이 꼭 필요한 경우만 let을 사용한다.\n",
    "*******"
   ]
  },
  {
   "cell_type": "markdown",
   "metadata": {},
   "source": [
    "## Arrow Functions\n",
    "- function keyword 대신 => 이용하여 간략히 함수를 선언\n",
    "- this를 binding하지 않는다. 함수가 실행되는 context를 가리킴 (Lexical this)\n",
    "- 위의 이유 때문에 method나 prototype 할당, event listener로 사용하지 않는다.\n",
    "- 한 줄짜리 , {} 생략된 함수는 return도 묵시적으로 된다.\n",
    "- arguments가 없다. (rest parameter 사용)\n",
    "- 작성법\n",
    "    - (x,y) => { ... }\n",
    "    - x => { ... }\n",
    "    - () => { ... } // _ =>\n",
    "    - x => { return x * x; }\n",
    "    - x => x * x;"
   ]
  },
  {
   "cell_type": "code",
   "execution_count": 7,
   "metadata": {},
   "outputs": [
    {
     "name": "stdout",
     "output_type": "stream",
     "text": [
      "10\n",
      "100\n"
     ]
    }
   ],
   "source": [
    "// 표현 축약 \n",
    "{\n",
    "    let __ = setTimeout(function() {\n",
    "        log(10);\n",
    "    }, 1000);\n",
    "    \n",
    "    let _ = setTimeout(()=>log(100), 1000);\n",
    "}"
   ]
  },
  {
   "cell_type": "code",
   "execution_count": 8,
   "metadata": {},
   "outputs": [
    {
     "name": "stdout",
     "output_type": "stream",
     "text": [
      "30\n",
      "30\n",
      "40\n"
     ]
    }
   ],
   "source": [
    "// 묵시적 return을 이용한 함수 생성\n",
    "{\n",
    "    const add = (a, b) => a + b;\n",
    "    log(add(10, 20));\n",
    "    \n",
    "    const cadd = a => b => a + b;\n",
    "    const add10 = cadd(10);\n",
    "    log(add10(20));\n",
    "    log(add10(30));\n",
    "}"
   ]
  },
  {
   "cell_type": "markdown",
   "metadata": {},
   "source": [
    "## Template literals\n",
    "- 작은 따옴표(')나 큰 따옴표(\") 대신 backtick(`)을 사용하는 것\n",
    "- 여러줄 문자열이 허용된다. (공백까지 포함된다.)\n",
    "- ${표현식}의 표현식 삽입이 가능하다."
   ]
  },
  {
   "cell_type": "code",
   "execution_count": 9,
   "metadata": {},
   "outputs": [
    {
     "name": "stdout",
     "output_type": "stream",
     "text": [
      "첫번째 줄\n",
      "두번째 줄:javascript 예제입니다.\n"
     ]
    }
   ],
   "source": [
    "//일반 문자열\n",
    "{\n",
    "    var js = 'javascript';\n",
    "    var str =   '첫번째 줄\\n' +\n",
    "                '두번째 줄:' + js + ' 예제입니다.';\n",
    "    log(str);\n",
    "}"
   ]
  },
  {
   "cell_type": "code",
   "execution_count": 10,
   "metadata": {},
   "outputs": [
    {
     "name": "stdout",
     "output_type": "stream",
     "text": [
      "첫번째 줄\n",
      "두번째 줄:javascript 예제입니다.\n"
     ]
    }
   ],
   "source": [
    "//backtick 문자열\n",
    "{\n",
    "    const js = 'javascript';\n",
    "    const str = `첫번째 줄\n",
    "두번째 줄:${js} 예제입니다.`;\n",
    "    log(str);\n",
    "}"
   ]
  },
  {
   "cell_type": "markdown",
   "metadata": {},
   "source": [
    "### 정리\n",
    "- 문자열을 template형태로 사용 가능 (sql, html등)\n",
    "******"
   ]
  },
  {
   "cell_type": "markdown",
   "metadata": {},
   "source": [
    "## Parameter (default, rest, spread)\n",
    "- function을 정의하는 편의 기능\n",
    "- const f = function(**a = 'defaultValue'**) //default parameter value : 파라미터 체크 와 초기화를 간소화\n",
    "- const f = function(**...a**) //rest parameter : 인수를 함수 내부에서 배열로 받을 수 있다.\n",
    "- f(**...a**); // spread operator : 배열 or Iterable을 개별요소로 분리.\n",
    "- rest는 마지막에만 가능 fuction(...b, a);"
   ]
  },
  {
   "cell_type": "code",
   "execution_count": 11,
   "metadata": {},
   "outputs": [
    {
     "name": "stdout",
     "output_type": "stream",
     "text": [
      "2\n",
      "10\n"
     ]
    }
   ],
   "source": [
    "//default\n",
    "{\n",
    "    const parse = (str, radix=2) => parseInt(str, radix);\n",
    "    \n",
    "    log(parse('10'));\n",
    "    log(parse('10', 10));\n",
    "    \n",
    "//     fucntion parse(str, radix) {\n",
    "//         if(!radix) radix = 2;\n",
    "//         radix = radix || 2;\n",
    "//     }\n",
    "}"
   ]
  },
  {
   "cell_type": "code",
   "execution_count": 12,
   "metadata": {},
   "outputs": [
    {
     "name": "stdout",
     "output_type": "stream",
     "text": [
      "6\n",
      "6\n",
      "15\n"
     ]
    }
   ],
   "source": [
    "// rest, spread\n",
    "{\n",
    "    const sum = (...a) => a.reduce((m,v)=>m+v,0);\n",
    "    \n",
    "    log(sum(1, 2, 3));\n",
    "    \n",
    "    const arr = [1,2,3];\n",
    "    log(sum(...arr));\n",
    "    \n",
    "    log(sum(...arr, 4, 5));\n",
    "}"
   ]
  },
  {
   "cell_type": "code",
   "execution_count": 13,
   "metadata": {},
   "outputs": [
    {
     "name": "stdout",
     "output_type": "stream",
     "text": [
      "9 1\n",
      "9 1\n"
     ]
    }
   ],
   "source": [
    "// max, min\n",
    "{\n",
    "    //1,3,5,7,9 에서 max, min 구하기\n",
    "    log(Math.max(1,3,5,7,9), Math.min(1,3,5,7,9));\n",
    "    \n",
    "    const list = [1,3,5,7,9];\n",
    "    log(Math.max(...list), Math.min(...list));\n",
    "}"
   ]
  },
  {
   "cell_type": "code",
   "execution_count": 14,
   "metadata": {},
   "outputs": [
    {
     "name": "stdout",
     "output_type": "stream",
     "text": [
      "10\n",
      "error!!!!!!\n"
     ]
    }
   ],
   "source": [
    "// default를 이용한 필수값 체크\n",
    "{\n",
    "    const err = () => {throw new Error();};\n",
    "    const testError = (v=err()) => v;\n",
    "\n",
    "    try {\n",
    "        log(testError(10));\n",
    "        log(testError());\n",
    "    }catch(e) {\n",
    "        console.log('error!!!!!!');\n",
    "    }\n",
    "}"
   ]
  },
  {
   "cell_type": "code",
   "execution_count": 16,
   "metadata": {},
   "outputs": [
    {
     "name": "stdout",
     "output_type": "stream",
     "text": [
      "concat: [ 1, 2, 3, 4 ]\n",
      "spred: [ 1, 2, 3, 4 ]\n",
      "a: [ 1, 2 ]\n",
      "b: [ 3, 4 ]\n"
     ]
    }
   ],
   "source": [
    "// array concat\n",
    "{\n",
    "    const a = [1, 2];\n",
    "    const b = [3, 4];\n",
    "    \n",
    "    console.log('concat:', a.concat(b));\n",
    "    console.log('spred:', [...a, ...b]);\n",
    "    \n",
    "    console.log('a:', a);\n",
    "    console.log('b:', b);\n",
    "}"
   ]
  },
  {
   "cell_type": "code",
   "execution_count": null,
   "metadata": {},
   "outputs": [],
   "source": [
    "// array push (1)\n",
    "{\n",
    "    const a = [1, 2];\n",
    "    const b = [3, 4];\n",
    "    \n",
    "    a.push(b);\n",
    "    console.log(a);\n",
    "}"
   ]
  },
  {
   "cell_type": "code",
   "execution_count": null,
   "metadata": {},
   "outputs": [],
   "source": [
    "// array push (2)\n",
    "{\n",
    "    const a = [1, 2];\n",
    "    const b = [3, 4];\n",
    "    \n",
    "    Array.prototype.push.apply(a, b); //a.push(3, 4);\n",
    "    console.log(a);\n",
    "}"
   ]
  },
  {
   "cell_type": "code",
   "execution_count": null,
   "metadata": {},
   "outputs": [],
   "source": [
    "// array push (3)\n",
    "{\n",
    "    const a = [1, 2];\n",
    "    const b = [3, 4];\n",
    "    \n",
    "    a.push(...b);\n",
    "    console.log(a);\n",
    "}"
   ]
  },
  {
   "cell_type": "code",
   "execution_count": null,
   "metadata": {},
   "outputs": [],
   "source": [
    "// array copy (1)\n",
    "{\n",
    "    const a = [1, 2, 3];\n",
    "    const b = a;\n",
    "    \n",
    "    a.push(4);\n",
    "    console.log(a);\n",
    "    console.log(b);\n",
    "}"
   ]
  },
  {
   "cell_type": "code",
   "execution_count": null,
   "metadata": {},
   "outputs": [],
   "source": [
    "// array copy (2)\n",
    "{\n",
    "    const a = [1, 2, 3];\n",
    "    const b = a.slice();\n",
    "    \n",
    "    a.push(4);\n",
    "    console.log(a);\n",
    "    console.log(b);\n",
    "}"
   ]
  },
  {
   "cell_type": "code",
   "execution_count": null,
   "metadata": {},
   "outputs": [],
   "source": [
    "// array copy (3)\n",
    "{\n",
    "    const a = [1, 2, 3];\n",
    "    const b = [...a];\n",
    "    \n",
    "    a.push(4);\n",
    "    console.log(a);\n",
    "    console.log(b);\n",
    "}"
   ]
  },
  {
   "cell_type": "code",
   "execution_count": null,
   "metadata": {},
   "outputs": [],
   "source": [
    "//객체 병합 (1)\n",
    "{\n",
    "    const obj0 = {x:1,  y:2};\n",
    "    const obj1 = {y:10, z:20};\n",
    "    \n",
    "    const merged = Object.assign({}, obj0, obj1);\n",
    "    console.log(merged, obj0, obj1);\n",
    "}"
   ]
  },
  {
   "cell_type": "code",
   "execution_count": null,
   "metadata": {},
   "outputs": [],
   "source": [
    "//객체 병합 (2)\n",
    "{\n",
    "    const obj0 = {x:1,  y:2};\n",
    "    const obj1 = {y:10, z:20};\n",
    "    \n",
    "    const merged = {...obj0, ...obj1};\n",
    "    console.log(merged, obj0, obj1);\n",
    "}"
   ]
  },
  {
   "cell_type": "markdown",
   "metadata": {},
   "source": [
    "### 정리\n",
    "- 파라메터의 기본값을 세팅할 수 있어 기본값 확인에 대한 코딩이 줄어든다.\n",
    "- ...문법으로 array, call을 대체할 수 있다.\n",
    "*********"
   ]
  },
  {
   "cell_type": "markdown",
   "metadata": {},
   "source": [
    "## Destructuring assignment\n",
    "- 객체나 배열을 해체해서 할당하는 기능\n",
    "- ** const [변수배열] = 배열 **\n",
    "- ** const {변수배열} = 객체 **"
   ]
  },
  {
   "cell_type": "code",
   "execution_count": null,
   "metadata": {},
   "outputs": [],
   "source": [
    "//배열에 대한 해체 할당\n",
    "{\n",
    "    const arr = [1, 2, 3];\n",
    "    \n",
    "    const [a, b] = arr;\n",
    "    console.log(a, b);\n",
    "    \n",
    "    const [c, ,d] = arr;\n",
    "    console.log(c, d);\n",
    "    \n",
    "    const [e, ...f] = arr;\n",
    "    console.log(e, f);\n",
    "}"
   ]
  },
  {
   "cell_type": "code",
   "execution_count": null,
   "metadata": {},
   "outputs": [],
   "source": [
    "//객체에 대한 해체 할당\n",
    "{\n",
    "    const obj = {\n",
    "        name : '길동',\n",
    "        age: 60\n",
    "    }\n",
    "    \n",
    "    const {name, age, lastName} = obj;\n",
    "    console.log(name, age, lastName);\n",
    "}"
   ]
  },
  {
   "cell_type": "code",
   "execution_count": null,
   "metadata": {},
   "outputs": [],
   "source": [
    "//function과 함께\n",
    "{\n",
    "    const display = ({name, age:a}) => {\n",
    "        return `${name}(${a}세)`;\n",
    "    }\n",
    "    const obj = {\n",
    "        name : '길동',\n",
    "        age: 60\n",
    "    }\n",
    "    \n",
    "    console.log(display(obj));\n",
    "}"
   ]
  },
  {
   "cell_type": "code",
   "execution_count": null,
   "metadata": {},
   "outputs": [],
   "source": [
    "// 중첨 개체의 경우\n",
    "{\n",
    "    const obj = {\n",
    "        name : '길동',\n",
    "        address: {\n",
    "            zipCode: '03068',\n",
    "            city: 'seoul'\n",
    "        }\n",
    "    }\n",
    "    \n",
    "    const {address:{city}} = obj;\n",
    "    console.log(city);\n",
    "}"
   ]
  },
  {
   "cell_type": "markdown",
   "metadata": {},
   "source": [
    "### 정리\n",
    "- vue.js, react등에서 많이 쓰이는 형태\n",
    "- 모듈 임포트에서도 많이 사용\n",
    "- 변수 생성 코드를 줄일 수 있다.\n",
    "********"
   ]
  },
  {
   "cell_type": "markdown",
   "metadata": {},
   "source": [
    "## Property shorthand\n",
    "- 변수와 propery 이름이 갔다면 생략 가능하다.\n",
    "- 메소드 정의시 function을 생략할 수 있다."
   ]
  },
  {
   "cell_type": "code",
   "execution_count": null,
   "metadata": {},
   "outputs": [],
   "source": [
    "// property 이름 생략\n",
    "{\n",
    "    const x = 1, y = 2;\n",
    "    const obj = {x:x, y:y};\n",
    "    console.log('obj:', obj);\n",
    "    \n",
    "    const o = {x,y};\n",
    "    console.log('o:', o);\n",
    "}"
   ]
  },
  {
   "cell_type": "code",
   "execution_count": null,
   "metadata": {},
   "outputs": [],
   "source": [
    "// 메소드 축약 (1)\n",
    "{\n",
    "    const obj = {\n",
    "        name: 'siva6',\n",
    "        hello: function() {\n",
    "            console.log('Hello, ', this.name);\n",
    "        }\n",
    "    };\n",
    "    obj.hello();\n",
    "}"
   ]
  },
  {
   "cell_type": "code",
   "execution_count": null,
   "metadata": {},
   "outputs": [],
   "source": [
    "// 메소드 축약 (2)\n",
    "{\n",
    "    const obj = {\n",
    "        name: 'siva6',\n",
    "        hello() {\n",
    "            console.log('Hello, ', this.name);\n",
    "        }\n",
    "    };\n",
    "    obj.hello();\n",
    "}"
   ]
  },
  {
   "cell_type": "markdown",
   "metadata": {},
   "source": [
    "### 정리\n",
    "- 간편하게 객체를 정의할 수있다.\n",
    "- 모듈에서 export 할때도 property생략이 자주 사용 된다. export {pi, square, Person};\n",
    "*****"
   ]
  },
  {
   "cell_type": "markdown",
   "metadata": {},
   "source": [
    "## Promise\n",
    "- 비동기 프로그램에서 callback hell을 해소하기 위한 방법 중 하나\n",
    "- 모다드 형태의 객체를 이용 (thenable)\n",
    "- 상태\n",
    " - pending : 초기상태 (fulfilled, rejected 아님)\n",
    " - fulfilled : 연산 수행 성공.\n",
    " - rejected : 연산 수행 실패.\n",
    " - settled : fulfiled or rejected 상태.\n",
    "- new Promise((resolve, reject) => {});\n",
    "- method\n",
    " - then\n",
    " - catch\n",
    "- class method\n",
    " - all\n",
    " - race\n",
    " - reject\n",
    " - resove\n",
    "- 구현 함수가 할 일\n",
    " - Promise를 반환\n",
    " - 값이나 undefined를 반환\n",
    " - throw\n",
    "- es8 : async/await"
   ]
  },
  {
   "cell_type": "code",
   "execution_count": null,
   "metadata": {},
   "outputs": [],
   "source": [
    "//기본 사용법\n",
    "{\n",
    "    const asyncFunction = p => {\n",
    "        return new Promise((resolved, rejected) => {\n",
    "           setTimeout(()=>resolved('>>'+p), 2000); \n",
    "        });\n",
    "    }\n",
    "    const promise = asyncFunction('hi!');\n",
    "    promise.then(console.log);\n",
    "    promise.then(asyncFunction).then(console.log);\n",
    "    promise.then(v=>v).then(v=>console.log('**', v));\n",
    "}"
   ]
  },
  {
   "cell_type": "code",
   "execution_count": null,
   "metadata": {},
   "outputs": [],
   "source": [
    "{\n",
    "    const DATAS = {'test':{name:'홍길동'}, 'test1':{name:'전우치'}};\n",
    "    \n",
    "    const getUser = (id, cb) => {\n",
    "        setTimeout(()=>cb(DATAS[id].name), 2000);   \n",
    "    };\n",
    "    \n",
    "    console.log('>>10>>');\n",
    "    getUser('test', console.log);\n",
    "    console.log('>>20>>');\n",
    "    \n",
    "    const getPromiseUser = id => {\n",
    "        return new Promise((resolved, rejected) => {\n",
    "           getUser(id, resolved); \n",
    "        });\n",
    "    }\n",
    "    \n",
    "    const testUser = getPromiseUser('test1');\n",
    "    console.log('>>30>>');\n",
    "    testUser.then(console.log);\n",
    "    console.log('>>40>>');\n",
    "}"
   ]
  },
  {
   "cell_type": "markdown",
   "metadata": {},
   "source": [
    "### 정리\n",
    "- callback hell을 해소할 수 있다.\n",
    "- async 프로그램을 sync프로그램처러 처리할 수 있다.\n",
    "******"
   ]
  },
  {
   "cell_type": "markdown",
   "metadata": {},
   "source": [
    "## Symbol\n",
    "- 새로 추가된 7번째 immutalbe primitive data type.\n",
    "    - (Object, String, Number, Boolean, null, undefined)\n",
    "- Symbol의 값음 애플리케이션 전체에서 유일하다.\n",
    "- 중복되지 않는 property key로 주로 사용한다.\n",
    "- 기본으로 제공되는 내장 Symbol이 있다.\n",
    "    - Symbol.interator : 객체의 기본 Iterator를 반환하는 메소드(for ... of문)\n",
    "    - Symbol.match, Symbol.replace, Symbol.search. Symbol.split : 정규표현식 관련 메소드(각 match,replace,search,split과 대응)\n",
    "    - Symbol.hasInstance : instance 여부 확인 (instanceof)\n",
    "    - Symbol.species : derived 객체를 생성하는데 사용되는 함수.\n",
    "    - Symbol.toPrimitive : 객체를 기본형 값으로 변환하는 메소드.\n",
    "- 전역 심볼을 사용하기 위해서는 Symbol.for(), Symbol.keyFor()를 사용한다."
   ]
  },
  {
   "cell_type": "code",
   "execution_count": null,
   "metadata": {},
   "outputs": [],
   "source": [
    "{\n",
    "    // Symbol 생성\n",
    "    let mySymbol = Symbol(); // new Symobl();은 사용할 수 없다.\n",
    "    let mySymbolDesc = Symbol('description'); //설명 추가\n",
    "    let mySymbolDesc2= Symbol('description'); //설명 추가2\n",
    "    \n",
    "    console.log('mySymbol', mySymbol, typeof mySymbol);\n",
    "    console.log('mySymbolDesc', mySymbolDesc, typeof mySymbolDesc);\n",
    "    console.log('mySymbolDesc2', mySymbolDesc2, typeof mySymbolDesc2);\n",
    "    console.log('mySymbolDesc == mySymbolDesc2', mySymbolDesc == mySymbolDesc2);\n",
    "}"
   ]
  },
  {
   "cell_type": "code",
   "execution_count": null,
   "metadata": {},
   "outputs": [],
   "source": [
    "{\n",
    "    // Symbol 사용법 : Symbol은 유일해서 다른 프로퍼티와 충돌하지 않는다.\n",
    "    const o = {a:456};\n",
    "    const mySymbol = Symbol('test');\n",
    "    \n",
    "    o[mySymbol] = 123;\n",
    "    console.log('o:', o);\n",
    "    console.log('o[mySymbol]:', o[mySymbol]);\n",
    "    \n",
    "    for(let i in o) {\n",
    "        console.log('in:', i);\n",
    "    }\n",
    "    \n",
    "    console.log('JSON.stringify(o):', JSON.stringify(o));\n",
    "}"
   ]
  },
  {
   "cell_type": "code",
   "execution_count": null,
   "metadata": {},
   "outputs": [],
   "source": [
    "{\n",
    "    // Well-known Symbol\n",
    "    const o = {\n",
    "        a:456,\n",
    "        [Symbol.toPrimitive]() {\n",
    "            return this.a;\n",
    "        }\n",
    "    };\n",
    "\n",
    "    console.log(o);\n",
    "    console.log(o + 544);\n",
    "}"
   ]
  },
  {
   "cell_type": "markdown",
   "metadata": {},
   "source": [
    "### 정리\n",
    "- 새로운 type 이다.\n",
    "- 중복되지 않는 key로 주로 사용된다.\n",
    "******"
   ]
  },
  {
   "cell_type": "markdown",
   "metadata": {},
   "source": [
    "## Iteration Protocol\n",
    "- iterable과 iterator를 정의해서 순환 가능 자료 구조를 표현한다.\n",
    "- iterable : 순회 가능한 자료 구조. Symbol.iterator 메소드를 구현한다.\n",
    "- iterator : Symbol.iterator의 반한 객체.\n",
    "```\n",
    "    {\n",
    "        next() {\n",
    "            return {\n",
    "                value: ...,\n",
    "                done: boolean\n",
    "            };\n",
    "        }\n",
    "    }\n",
    "```\n",
    "- built-in iterable : Array, String, Map, Set, DOM"
   ]
  },
  {
   "cell_type": "code",
   "execution_count": 12,
   "metadata": {},
   "outputs": [
    {
     "name": "stdout",
     "output_type": "stream",
     "text": [
      "object\n",
      "value=1 done=false\n",
      "value=3 done=false\n",
      "value=5 done=false\n",
      "value=undefined done=true\n"
     ]
    }
   ],
   "source": [
    "{\n",
    "    //기본 사용법\n",
    "    const a = [1, 3, 5];\n",
    "    log(typeof a[Symbol.iterator]());\n",
    "    const iteratorOfA = a[Symbol.iterator]();\n",
    "    log(iteratorOfA.next());\n",
    "    log(iteratorOfA.next());\n",
    "    log(iteratorOfA.next());\n",
    "    log(iteratorOfA.next());\n",
    "}"
   ]
  },
  {
   "cell_type": "code",
   "execution_count": 18,
   "metadata": {},
   "outputs": [
    {
     "name": "stdout",
     "output_type": "stream",
     "text": [
      "v=1\n",
      "v=3\n",
      "v=5\n",
      "v=s\n",
      "v=i\n",
      "v=v\n",
      "v=a\n",
      "v=6\n",
      "k=a v=A\n",
      "k=b v=B\n",
      "k=c v=C\n",
      "v=1\n",
      "v=2\n",
      "v=3\n"
     ]
    }
   ],
   "source": [
    "{\n",
    "    //for of 사용\n",
    "    // Array\n",
    "    for(const v of [1,3,5]) {\n",
    "        log({v});\n",
    "    }\n",
    "    \n",
    "    // String\n",
    "    for(const v of 'siva6') {\n",
    "        log({v});\n",
    "    }\n",
    "    \n",
    "    // Map\n",
    "    for(const [k,v] of new Map([['a', 'A'], ['b', 'B'], ['c', 'C']])) {\n",
    "        log({k, v});\n",
    "    }\n",
    "    \n",
    "    // Set\n",
    "    for(const v of new Set([1,2,2,3])) {\n",
    "        log({v});\n",
    "    }\n",
    "}"
   ]
  },
  {
   "cell_type": "code",
   "execution_count": 25,
   "metadata": {},
   "outputs": [
    {
     "name": "stdout",
     "output_type": "stream",
     "text": [
      "0\n",
      "1\n",
      "2\n"
     ]
    }
   ],
   "source": [
    "{\n",
    "    //무한 카운터\n",
    "    const counter = ()=>{\n",
    "        let cnt = 0;\n",
    "        return {\n",
    "            next() {\n",
    "                return {\n",
    "                    value: cnt++,\n",
    "                    done: false\n",
    "                }\n",
    "            }\n",
    "        }\n",
    "    };\n",
    "\n",
    "    const iterator = counter();\n",
    "    log(iterator.next().value);\n",
    "    log(iterator.next().value);\n",
    "    log(iterator.next().value);\n",
    "}"
   ]
  },
  {
   "cell_type": "code",
   "execution_count": 29,
   "metadata": {},
   "outputs": [
    {
     "name": "stdout",
     "output_type": "stream",
     "text": [
      "0\n",
      "1\n",
      "2\n",
      "a=0\n",
      "a=1\n",
      "a=2\n",
      "a=3\n",
      "a=4\n",
      "a=5\n",
      "a=6\n",
      "a=7\n",
      "a=8\n",
      "a=9\n",
      "a=10\n"
     ]
    }
   ],
   "source": [
    "{\n",
    "    //genator\n",
    "    function* counter() {\n",
    "        let cnt = 0;\n",
    "        while(true) yield cnt++;\n",
    "    }\n",
    "    \n",
    "    const iterator = counter();\n",
    "    log(iterator.next().value);\n",
    "    log(iterator.next().value);\n",
    "    log(iterator.next().value);\n",
    "    \n",
    "    for(const a of counter()) {\n",
    "        if(a > 10) break;\n",
    "        log({a});\n",
    "    }\n",
    "}"
   ]
  },
  {
   "cell_type": "markdown",
   "metadata": {},
   "source": [
    "### 정리\n",
    "- js의 순환 구조는 iteration protocol을 사용한다.\n",
    "- 배열 보다 좀 더 다앙햔 사용법을 제공한다.\n",
    "- genertor object는 iterator이면서 iterable이다.\n",
    "******"
   ]
  },
  {
   "cell_type": "markdown",
   "metadata": {},
   "source": [
    "## Generator\n",
    "- iterator를 생성하는 함수.\n",
    "- Generator는 iterable하다.\n",
    "- Generator를 생성되는 Generator Object는 interator다.\n",
    "- 표기법은 function* 이고, 내부에 하나 이상의 yield문이 있어야 한다.\n",
    "- next()에 parameter를 넘기면 yield의 결과값으로 받을 수 있다."
   ]
  },
  {
   "cell_type": "code",
   "execution_count": 5,
   "metadata": {},
   "outputs": [
    {
     "name": "stdout",
     "output_type": "stream",
     "text": [
      "{ value: 0, done: false }\n",
      "1\n",
      "2\n",
      "3\n",
      "4\n"
     ]
    }
   ],
   "source": [
    "{\n",
    "    //기본 사용법\n",
    "    const generator = function* () {\n",
    "        let index = 0;\n",
    "        while(index < 5) yield index++;\n",
    "    }\n",
    "    \n",
    "    const cnt = generator();\n",
    "    console.log(cnt.next());\n",
    "    \n",
    "    for(const a of cnt) {\n",
    "        console.log(a);\n",
    "    }\n",
    "}"
   ]
  },
  {
   "cell_type": "code",
   "execution_count": 14,
   "metadata": {},
   "outputs": [
    {
     "name": "stdout",
     "output_type": "stream",
     "text": [
      "0\n",
      "1\n",
      "2\n",
      "0\n",
      "1\n"
     ]
    }
   ],
   "source": [
    "{\n",
    "    //next에 parameter 사용하기\n",
    "    const generator = function* () {\n",
    "        let index = 0;\n",
    "        while(true) {\n",
    "            let reset = yield index++;\n",
    "            if(reset) index = 0;\n",
    "        }\n",
    "    }\n",
    "    \n",
    "    const cnt = generator();\n",
    "    console.log(cnt.next().value);\n",
    "    console.log(cnt.next().value);\n",
    "    console.log(cnt.next().value);\n",
    "    console.log(cnt.next(true).value);\n",
    "    console.log(cnt.next().value);\n",
    "}"
   ]
  },
  {
   "cell_type": "code",
   "execution_count": 1,
   "metadata": {},
   "outputs": [
    {
     "name": "stdout",
     "output_type": "stream",
     "text": [
      "{ value: 1, done: false }\n",
      "{ value: 11, done: false }\n",
      "{ value: 22, done: false }\n",
      "{ value: 60, done: true }\n"
     ]
    }
   ],
   "source": [
    "{\n",
    "    // return 은?\n",
    "    const generator = function* (n) {\n",
    "        const x = yield n;\n",
    "        const y = yield x + 1;\n",
    "        const z = yield y + 2;\n",
    "        return x + y + z;\n",
    "    }\n",
    "    \n",
    "    const cnt = generator(1);\n",
    "    console.log(cnt.next());\n",
    "    console.log(cnt.next(10));\n",
    "    console.log(cnt.next(20));\n",
    "    console.log(cnt.next(30));\n",
    "}"
   ]
  },
  {
   "cell_type": "markdown",
   "metadata": {},
   "source": [
    "### 정리\n",
    "- Generator를 이용해 interator를 쉽게 만들 수 있다.\n",
    "***"
   ]
  },
  {
   "cell_type": "markdown",
   "metadata": {},
   "source": [
    "## Class\n",
    "- JS는 prototype-base 객체 지향언어이다. (익숙하지 않다.)\n",
    "- 하지만, class-base 객체 지향을 지원하게 되면서 추가 되었다.\n",
    "- class, constructor, super, extends 가 존재하다.\n",
    "- class body에 member(property)를 선언할 수 없다.\n",
    "- 상속 후 constructor에서 super()를 실행하지 않은면 this를 참조할 수 없다."
   ]
  },
  {
   "cell_type": "code",
   "execution_count": 18,
   "metadata": {},
   "outputs": [
    {
     "name": "stdout",
     "output_type": "stream",
     "text": [
      "true\n",
      "div\n",
      "<div></div>\n",
      "<div>테스트</div>\n",
      "<h1></h1>\n"
     ]
    }
   ],
   "source": [
    "{\n",
    "    //정의\n",
    "    //class Node {     // class declarations (hosting 제외)\n",
    "    const Node = class { // class expressions\n",
    "        constructor(name) { // 생성자 (하나만 존재한다.)\n",
    "            Object.assign(this, {_name:name,_text:''});\n",
    "        } // , 가 없다.\n",
    "        get name() { // getter\n",
    "            return this._name;\n",
    "        }\n",
    "        get text() { // getter\n",
    "            return this._text;\n",
    "        }\n",
    "        set text(text) { // setter\n",
    "            this._text = text;\n",
    "        }\n",
    "        toString() { // method\n",
    "            return `<${this._name}>${this._text}</${this._name}>`;\n",
    "        }\n",
    "        static getNode(name) { // static method\n",
    "            return new Node(name);\n",
    "        }\n",
    "    }\n",
    "    \n",
    "    const div = new Node('div'); // constructor를 실행한다.\n",
    "    console.log(Node === Node.prototype.constructor);\n",
    "    console.log(div.name);\n",
    "    console.log(div.toString());\n",
    "    div.text = '테스트';\n",
    "    console.log(div.toString());\n",
    "    \n",
    "    const h1 = Node.getNode('h1');\n",
    "    console.log(h1.toString());\n",
    "}"
   ]
  },
  {
   "cell_type": "code",
   "execution_count": 29,
   "metadata": {},
   "outputs": [
    {
     "name": "stdout",
     "output_type": "stream",
     "text": [
      "<ul></ul>\n",
      "<ul><li>test</li><li>테스트</li></ul>\n"
     ]
    }
   ],
   "source": [
    "{\n",
    "    //상속\n",
    "    const Node = class {\n",
    "        constructor(name) {\n",
    "            Object.assign(this, {_name:name,_text:''});\n",
    "        }\n",
    "        get name() {\n",
    "            return this._name;\n",
    "        }\n",
    "        get text() {\n",
    "            return this._text;\n",
    "        }\n",
    "        set text(text) {\n",
    "            this._text = text;\n",
    "        }\n",
    "        toString() {\n",
    "            return `<${this._name}>${this._text}</${this._name}>`;\n",
    "        }\n",
    "        static getNode(name) {\n",
    "            return new Node(name);\n",
    "        }\n",
    "    }\n",
    "    \n",
    "    const Ul = class extends Node {\n",
    "        constructor() {\n",
    "            super('ul');\n",
    "            Object.assign(this, {_list:[]});\n",
    "        }\n",
    "        add(e) {\n",
    "            this._list.push(e);\n",
    "            this._text = this._list.reduce((m, v)=>m += v.toString(), '');\n",
    "        }\n",
    "    }\n",
    "    \n",
    "    const ul = new Ul();\n",
    "    console.log(ul.toString());\n",
    "    \n",
    "    for(const e of ['test', '테스트']) {\n",
    "        const node = new Node('li');\n",
    "        node.text = e;\n",
    "        ul.add(node);\n",
    "    }\n",
    "    console.log(ul.toString());\n",
    "}"
   ]
  },
  {
   "cell_type": "markdown",
   "metadata": {},
   "source": [
    "### 정리\n",
    "- prototype이 아닌 class를 사용하는 객체지향을 지원한다.\n",
    "***"
   ]
  },
  {
   "cell_type": "code",
   "execution_count": null,
   "metadata": {},
   "outputs": [],
   "source": [
    "{\n",
    "    let obj = {\n",
    "        id:100\n",
    "    }\n",
    "    \n",
    "    for (let o in obj) {\n",
    "        console.log(o);\n",
    "    }\n",
    "    \n",
    "    let name = 'name';\n",
    "    obj[name] = () => 'from name';\n",
    "    \n",
    "    let firstName = Symbol();\n",
    "    obj[firstName] = () => 'from symbol';\n",
    "    \n",
    "    console.log(obj[name](), obj[firstName]());\n",
    "    \n",
    "    for (let o in obj) {\n",
    "        console.log(o);\n",
    "    }\n",
    "}"
   ]
  }
 ],
 "metadata": {
  "kernelspec": {
   "display_name": "Javascript (Node.js)",
   "language": "javascript",
   "name": "javascript"
  },
  "language_info": {
   "file_extension": ".js",
   "mimetype": "application/javascript",
   "name": "javascript",
   "version": "10.5.0"
  }
 },
 "nbformat": 4,
 "nbformat_minor": 2
}
