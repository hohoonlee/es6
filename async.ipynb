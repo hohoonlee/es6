{
 "cells": [
  {
   "cell_type": "markdown",
   "metadata": {},
   "source": [
    "# Asynchronous Programming\n",
    "- 아래의 용어들과 혼용되지만, 주 실행흐름을 멈추지 않는 프로그래밍 방식을 말한다.\n",
    "\n",
    "- Synchronous  : 통지 모델. application이 kernel을 체크한다.\n",
    "- Asynchronous : 통지 모델. kernel이 application에게 결과를 통지한다.\n",
    "- Blocking     : application이 Kernel의 응답을 대기한다. (결과가 나왔을 때 return)\n",
    "- Not-blocking : application이 kernel의 응답을 대기하지 않는다. (결과에 상관 없이 return)\n",
    "\n",
    "- Concurrency  : 실행 순서와 무관하게 동작\n",
    "- Parallelism  : 많은 작업을 물리적으로 동시에 수행."
   ]
  },
  {
   "cell_type": "markdown",
   "metadata": {},
   "source": [
    "## 기본 라이브러리"
   ]
  },
  {
   "cell_type": "code",
   "execution_count": 1,
   "metadata": {},
   "outputs": [],
   "source": [
    "const _ = require('./underscore-min.js');"
   ]
  },
  {
   "cell_type": "markdown",
   "metadata": {},
   "source": [
    "1.0 학생, 과목 정보 확인\n",
    "  - const, let\n",
    "  - scope\n",
    "  - sync / async"
   ]
  },
  {
   "cell_type": "code",
   "execution_count": null,
   "metadata": {},
   "outputs": [],
   "source": [
    "{\n",
    "    const fs = require('fs');\n",
    "    const student = fs.readFileSync('./data/학생.csv', {encoding:'UTF-8'});\n",
    "    const subject = fs.readFileSync('./data/교과목.csv', {encoding:'UTF-8'});\n",
    "    console.log(student, subject);\n",
    "}"
   ]
  },
  {
   "cell_type": "markdown",
   "metadata": {},
   "source": [
    "1.1 중복제거\n",
    "  - 함수만들기"
   ]
  },
  {
   "cell_type": "code",
   "execution_count": null,
   "metadata": {},
   "outputs": [],
   "source": [
    "{\n",
    "    const readFile = filename => {\n",
    "        const fs = require('fs');\n",
    "        return fs.readFileSync(`./data/${filename}`, {encoding:'UTF-8'});\n",
    "    };\n",
    "    console.log(readFile('학생.csv'), readFile('교과목.csv'));\n",
    "}"
   ]
  },
  {
   "cell_type": "markdown",
   "metadata": {},
   "source": [
    "1.2 좀 더 줄여보기\n",
    "  - 화살표 함수의 생략"
   ]
  },
  {
   "cell_type": "code",
   "execution_count": null,
   "metadata": {},
   "outputs": [],
   "source": [
    "{\n",
    "    const readFile = filename => require('fs').readFileSync(`./data/${filename}`, {encoding:'UTF-8'});\n",
    "    console.log(readFile('학생.csv'), readFile('교과목.csv'));\n",
    "}"
   ]
  },
  {
   "cell_type": "markdown",
   "metadata": {},
   "source": [
    "2.0 JSON으로 파싱하기\n",
    "  - 함수 반환 하기\n",
    "  - _.map\n",
    "  - _.reduce"
   ]
  },
  {
   "cell_type": "code",
   "execution_count": null,
   "metadata": {},
   "outputs": [],
   "source": [
    "{\n",
    "    const readFile = filename => require('fs').readFileSync(`./data/${filename}`, {encoding:'UTF-8'});\n",
    "    const csvToObj = csv => {\n",
    "        const body    = csv.split('\\n');\n",
    "        const header  = body.shift().split(',');\n",
    "        return _.map(body, data=>{\n",
    "            return _.reduce(data.split(','), (m, v, i)=>{\n",
    "                m[header[i]] = v;\n",
    "                return m;\n",
    "            }, {});\n",
    "        });\n",
    "    };\n",
    "    console.log(csvToObj(readFile('학생.csv')), csvToObj(readFile('교과목.csv')));\n",
    "}"
   ]
  },
  {
   "cell_type": "markdown",
   "metadata": {},
   "source": [
    "2.1 조금 줄여 보기\n",
    "  - 배열 비구분해 할당"
   ]
  },
  {
   "cell_type": "code",
   "execution_count": null,
   "metadata": {},
   "outputs": [],
   "source": [
    "{\n",
    "    const readFile = filename => require('fs').readFileSync(`./data/${filename}`, {encoding:'UTF-8'});\n",
    "    const csvToObj = csv => {\n",
    "        const [header, ...body] = _.map(csv.split('\\n'), d=>d.split(','));\n",
    "        return _.map(body, data=>{\n",
    "            return _.reduce(data, (m, v, i)=>{\n",
    "                m[header[i]] = v;\n",
    "                return m;\n",
    "            }, {});\n",
    "        });\n",
    "    };\n",
    "    console.log(csvToObj(readFile('학생.csv')), csvToObj(readFile('교과목.csv')));\n",
    "}"
   ]
  },
  {
   "cell_type": "markdown",
   "metadata": {},
   "source": [
    "2.2 COMPOSE 사용해 보기\n",
    "  - 함수로 분해\n",
    "  - _.compose"
   ]
  },
  {
   "cell_type": "code",
   "execution_count": null,
   "metadata": {},
   "outputs": [],
   "source": [
    "{\n",
    "    const readFile  = filename => require('fs').readFileSync(`./data/${filename}`, {encoding:'UTF-8'});\n",
    "    const splitCr   = text => text.split('\\n');\n",
    "    const splitComma= text => text.split(',');\n",
    "    const makeFunctionObjWithHeader = header => array => _.reduce(array, (m, v, i)=>(m[header[i]]=v,m),{});\n",
    "    const csvToObj = csv => {\n",
    "        const [header, ...body] = splitCr(csv);\n",
    "        const funcArrayToObj = _.compose(\n",
    "            _.compose(makeFunctionObjWithHeader, splitComma)(header),\n",
    "            splitComma\n",
    "        );\n",
    "        return _.map(body, funcArrayToObj);\n",
    "    };\n",
    "    console.log(csvToObj(readFile('학생.csv')), csvToObj(readFile('교과목.csv')));\n",
    "}"
   ]
  },
  {
   "cell_type": "markdown",
   "metadata": {},
   "source": [
    "2.3 줄여보기"
   ]
  },
  {
   "cell_type": "code",
   "execution_count": null,
   "metadata": {},
   "outputs": [],
   "source": [
    "{\n",
    "    const readFile = filename => require('fs').readFileSync(`./data/${filename}`, {encoding:'UTF-8'});\n",
    "    const csvToObj = csv => {\n",
    "        const [header, ...body]= _.map(csv.split('\\n'), v=>v.split(','));\n",
    "        return _.map(body, data=>_.reduce(data, (m, v, i)=>(m[header[i]]=v,m),{}));\n",
    "    };\n",
    "    console.log(csvToObj(readFile('학생.csv')), csvToObj(readFile('교과목.csv')));\n",
    "}"
   ]
  },
  {
   "cell_type": "markdown",
   "metadata": {},
   "source": [
    "3.0 시험 데이터 만들기\n",
    "  - for ... of"
   ]
  },
  {
   "cell_type": "code",
   "execution_count": null,
   "metadata": {},
   "outputs": [],
   "source": [
    "{\n",
    "    const readFile = filename => require('fs').readFileSync(`./data/${filename}`, {encoding:'UTF-8'});\n",
    "    const csvToObj = csv => {\n",
    "        const [header, ...body]= _.map(csv.split('\\n'), v=>v.split(','));\n",
    "        return _.map(body, data=>_.reduce(data, (m, v, i)=>(m[header[i]]=v,m),{}));\n",
    "    };\n",
    "    const makeScore = () => Math.round(Math.random() * 41 + 60);\n",
    "    \n",
    "    const student = csvToObj(readFile('학생.csv'));\n",
    "    const subject = csvToObj(readFile('교과목.csv'));\n",
    "    \n",
    "    for(const i of student) {\n",
    "        for(const j of subject) {\n",
    "            console.log(`${i['학번']},${j['교과번호']},${makeScore()}`);\n",
    "        }\n",
    "    }\n",
    "}"
   ]
  },
  {
   "cell_type": "markdown",
   "metadata": {},
   "source": [
    "3.1 다른 순환 방법\n",
    "  - _.each"
   ]
  },
  {
   "cell_type": "code",
   "execution_count": 9,
   "metadata": {},
   "outputs": [
    {
     "name": "stdout",
     "output_type": "stream",
     "text": [
      "100,100,97\n",
      "100,200,66\n",
      "100,300,81\n",
      "100,400,99\n",
      "100,500,93\n",
      "100,600,69\n",
      "110,100,91\n",
      "110,200,68\n",
      "110,300,85\n",
      "110,400,88\n",
      "110,500,78\n",
      "110,600,98\n",
      "120,100,70\n",
      "120,200,77\n",
      "120,300,79\n",
      "120,400,90\n",
      "120,500,86\n",
      "120,600,89\n",
      "130,100,77\n",
      "130,200,81\n",
      "130,300,85\n",
      "130,400,94\n",
      "130,500,79\n",
      "130,600,67\n",
      "140,100,65\n",
      "140,200,78\n",
      "140,300,74\n",
      "140,400,93\n",
      "140,500,84\n",
      "140,600,74\n",
      "150,100,93\n",
      "150,200,65\n",
      "150,300,91\n",
      "150,400,77\n",
      "150,500,61\n",
      "150,600,85\n",
      "160,100,71\n",
      "160,200,80\n",
      "160,300,68\n",
      "160,400,69\n",
      "160,500,87\n",
      "160,600,71\n",
      "end\n"
     ]
    }
   ],
   "source": [
    "{\n",
    "    const readFile = filename => require('fs').readFileSync(`./data/${filename}`, {encoding:'UTF-8'});\n",
    "    const csvToObj = csv => {\n",
    "        const [header, ...body]= _.map(csv.split('\\n'), v=>v.split(','));\n",
    "        return _.map(body, data=>_.reduce(data, (m, v, i)=>(m[header[i]]=v,m),{}));\n",
    "    };\n",
    "    const makeScore = () => Math.round(Math.random() * 41 + 60);\n",
    "    \n",
    "    const student = csvToObj(readFile('학생.csv'));\n",
    "    const subject = csvToObj(readFile('교과목.csv'));\n",
    "    \n",
    "    _.each(student, i => {\n",
    "       _.each(subject, j => {\n",
    "           console.log(`${i['학번']},${j['교과번호']},${makeScore()}`);\n",
    "       });\n",
    "    });\n",
    "    console.log('end');\n",
    "}"
   ]
  },
  {
   "cell_type": "markdown",
   "metadata": {},
   "source": [
    "4.0 시험 더미 파일 생성"
   ]
  },
  {
   "cell_type": "code",
   "execution_count": null,
   "metadata": {},
   "outputs": [],
   "source": []
  }
 ],
 "metadata": {
  "kernelspec": {
   "display_name": "Javascript (Node.js)",
   "language": "javascript",
   "name": "javascript"
  },
  "language_info": {
   "file_extension": ".js",
   "mimetype": "application/javascript",
   "name": "javascript",
   "version": "13.5.0"
  }
 },
 "nbformat": 4,
 "nbformat_minor": 2
}
