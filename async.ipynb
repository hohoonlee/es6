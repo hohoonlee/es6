{
 "cells": [
  {
   "cell_type": "markdown",
   "metadata": {},
   "source": [
    "# Asynchronous Programming\n",
    "- 아래의 용어들과 혼용되지만, 주 실행흐름을 멈추지 않는 프로그래밍 방식을 말한다.\n",
    "\n",
    "- Synchronous  : 통지 모델. application이 kernel을 체크한다.\n",
    "- Asynchronous : 통지 모델. kernel이 application에게 결과를 통지한다.\n",
    "- Blocking     : application이 Kernel의 응답을 대기한다. (결과가 나왔을 때 return)\n",
    "- Not-blocking : application이 kernel의 응답을 대기하지 않는다. (결과에 상관 없이 return)\n",
    "\n",
    "- Concurrency  : 실행 순서와 무관하게 동작\n",
    "- Parallelism  : 많은 작업을 물리적으로 동시에 수행."
   ]
  },
  {
   "cell_type": "markdown",
   "metadata": {},
   "source": [
    "## 기본 라이브러리"
   ]
  },
  {
   "cell_type": "code",
   "execution_count": 1,
   "metadata": {},
   "outputs": [
    {
     "data": {
      "text/plain": [
       "undefined"
      ]
     },
     "execution_count": 1,
     "metadata": {},
     "output_type": "execute_result"
    }
   ],
   "source": [
    "const _ = require('./underscore-min.js');"
   ]
  },
  {
   "cell_type": "markdown",
   "metadata": {},
   "source": [
    "__1.0 학생, 과목 정보 확인__\n",
    "  - const, let\n",
    "  - scope\n",
    "  - sync / async"
   ]
  },
  {
   "cell_type": "code",
   "execution_count": null,
   "metadata": {},
   "outputs": [],
   "source": [
    "{\n",
    "    const fs = require('fs');\n",
    "    const student = fs.readFileSync('./data/학생.csv', {encoding:'UTF-8'});\n",
    "    const subject = fs.readFileSync('./data/교과목.csv', {encoding:'UTF-8'});\n",
    "    console.log(student, subject);\n",
    "}"
   ]
  },
  {
   "cell_type": "markdown",
   "metadata": {},
   "source": [
    "__1.1 중복제거__\n",
    "  - 함수만들기"
   ]
  },
  {
   "cell_type": "code",
   "execution_count": null,
   "metadata": {},
   "outputs": [],
   "source": [
    "{\n",
    "    const readFile = filename => {\n",
    "        const fs = require('fs');\n",
    "        return fs.readFileSync(`./data/${filename}`, {encoding:'UTF-8'});\n",
    "    };\n",
    "    console.log(readFile('학생.csv'), readFile('교과목.csv'));\n",
    "}"
   ]
  },
  {
   "cell_type": "markdown",
   "metadata": {},
   "source": [
    "__1.2 좀 더 줄여보기__\n",
    "  - 화살표 함수의 생략"
   ]
  },
  {
   "cell_type": "code",
   "execution_count": null,
   "metadata": {},
   "outputs": [],
   "source": [
    "{\n",
    "    const readFile = filename => require('fs').readFileSync(`./data/${filename}`, {encoding:'UTF-8'});\n",
    "    console.log(readFile('학생.csv'), readFile('교과목.csv'));\n",
    "}"
   ]
  },
  {
   "cell_type": "markdown",
   "metadata": {},
   "source": [
    "__2.0 JSON으로 파싱하기__\n",
    "  - 함수 반환 하기\n",
    "  - _.map\n",
    "  - _.reduce"
   ]
  },
  {
   "cell_type": "code",
   "execution_count": null,
   "metadata": {},
   "outputs": [],
   "source": [
    "{\n",
    "    const readFile = filename => require('fs').readFileSync(`./data/${filename}`, {encoding:'UTF-8'});\n",
    "    const csvToObj = csv => {\n",
    "        const body    = csv.split('\\n');\n",
    "        const header  = body.shift().split(',');\n",
    "        return _.map(body, data=>{\n",
    "            return _.reduce(data.split(','), (m, v, i)=>{\n",
    "                m[header[i]] = v;\n",
    "                return m;\n",
    "            }, {});\n",
    "        });\n",
    "    };\n",
    "    console.log(csvToObj(readFile('학생.csv')), csvToObj(readFile('교과목.csv')));\n",
    "}"
   ]
  },
  {
   "cell_type": "markdown",
   "metadata": {},
   "source": [
    "__2.1 조금 줄여 보기__\n",
    "  - 배열 비구분해 할당"
   ]
  },
  {
   "cell_type": "code",
   "execution_count": null,
   "metadata": {},
   "outputs": [],
   "source": [
    "{\n",
    "    const readFile = filename => require('fs').readFileSync(`./data/${filename}`, {encoding:'UTF-8'});\n",
    "    const csvToObj = csv => {\n",
    "        const [header, ...body] = _.map(csv.split('\\n'), d=>d.split(','));\n",
    "        return _.map(body, data=>{\n",
    "            return _.reduce(data, (m, v, i)=>{\n",
    "                m[header[i]] = v;\n",
    "                return m;\n",
    "            }, {});\n",
    "        });\n",
    "    };\n",
    "    console.log(csvToObj(readFile('학생.csv')), csvToObj(readFile('교과목.csv')));\n",
    "}"
   ]
  },
  {
   "cell_type": "markdown",
   "metadata": {},
   "source": [
    "__2.2 COMPOSE 사용해 보기__\n",
    "  - 함수로 분해\n",
    "  - _.compose"
   ]
  },
  {
   "cell_type": "code",
   "execution_count": null,
   "metadata": {},
   "outputs": [],
   "source": [
    "{\n",
    "    const readFile  = filename => require('fs').readFileSync(`./data/${filename}`, {encoding:'UTF-8'});\n",
    "    const splitCr   = text => text.split('\\n');\n",
    "    const splitComma= text => text.split(',');\n",
    "    const makeFunctionObjWithHeader = header => array => _.reduce(array, (m, v, i)=>(m[header[i]]=v,m),{});\n",
    "    const csvToObj = csv => {\n",
    "        const [header, ...body] = splitCr(csv);\n",
    "        const funcArrayToObj = _.compose(\n",
    "            _.compose(makeFunctionObjWithHeader, splitComma)(header),\n",
    "            splitComma\n",
    "        );\n",
    "        return _.map(body, funcArrayToObj);\n",
    "    };\n",
    "    console.log(csvToObj(readFile('학생.csv')), csvToObj(readFile('교과목.csv')));\n",
    "}"
   ]
  },
  {
   "cell_type": "markdown",
   "metadata": {},
   "source": [
    "__2.3 줄여보기__"
   ]
  },
  {
   "cell_type": "code",
   "execution_count": 4,
   "metadata": {},
   "outputs": [
    {
     "name": "stdout",
     "output_type": "stream",
     "text": [
      "[\n",
      "  { '학번': '100', '이름': '홍길동', '성별': '남', '나이': '19' },\n",
      "  { '학번': '110', '이름': '허난설헌', '성별': '여', '나이': '20' },\n",
      "  { '학번': '120', '이름': '전우치', '성별': '남', '나이': '30' },\n",
      "  { '학번': '130', '이름': '심청', '성별': '여', '나이': '16' },\n",
      "  { '학번': '140', '이름': '조조', '성별': '남', '나이': '23' },\n",
      "  { '학번': '150', '이름': '관우', '성별': '남', '나이': '25' },\n",
      "  { '학번': '160', '이름': '장비', '성별': '남', '나이': '19' }\n",
      "] [\n",
      "  { '교과번호': '100', '교과목명': '국어', '가중치': '1' },\n",
      "  { '교과번호': '200', '교과목명': '영어', '가중치': '1' },\n",
      "  { '교과번호': '300', '교과목명': '수학', '가중치': '1.1' },\n",
      "  { '교과번호': '400', '교과목명': '체육', '가중치': '0.8' },\n",
      "  { '교과번호': '500', '교과목명': '과학', '가중치': '0.9' },\n",
      "  { '교과번호': '600', '교과목명': '음악', '가중치': '1.5' }\n",
      "]\n"
     ]
    },
    {
     "data": {
      "text/plain": [
       "undefined"
      ]
     },
     "execution_count": 4,
     "metadata": {},
     "output_type": "execute_result"
    }
   ],
   "source": [
    "{\n",
    "    const readFile = filename => require('fs').readFileSync(`./data/${filename}`, {encoding:'UTF-8'});\n",
    "    const csvToObj = csv => {\n",
    "        const [header, ...body]= _.map(csv.split('\\n'), v=>v.split(','));\n",
    "        return _.map(body, data=>_.reduce(data, (m, v, i)=>(m[header[i]]=v,m),{}));\n",
    "    };\n",
    "    const readCSV = _.compose(csvToObj, readFile);\n",
    "    \n",
    "    console.log(readCSV('학생.csv'), readCSV('교과목.csv'));\n",
    "}"
   ]
  },
  {
   "cell_type": "markdown",
   "metadata": {},
   "source": [
    "__3.0 시험 데이터 만들기__\n",
    "  - for ... of"
   ]
  },
  {
   "cell_type": "code",
   "execution_count": 7,
   "metadata": {},
   "outputs": [
    {
     "name": "stdout",
     "output_type": "stream",
     "text": [
      "100,100,73\n",
      "100,200,73\n",
      "100,300,77\n",
      "100,400,76\n",
      "100,500,98\n",
      "100,600,67\n",
      "110,100,100\n",
      "110,200,75\n",
      "110,300,91\n",
      "110,400,63\n",
      "110,500,73\n",
      "110,600,86\n",
      "120,100,93\n",
      "120,200,96\n",
      "120,300,95\n",
      "120,400,96\n",
      "120,500,98\n",
      "120,600,91\n",
      "130,100,87\n",
      "130,200,93\n",
      "130,300,98\n",
      "130,400,82\n",
      "130,500,75\n",
      "130,600,77\n",
      "140,100,65\n",
      "140,200,76\n",
      "140,300,79\n",
      "140,400,84\n",
      "140,500,86\n",
      "140,600,76\n",
      "150,100,72\n",
      "150,200,64\n",
      "150,300,60\n",
      "150,400,82\n",
      "150,500,61\n",
      "150,600,67\n",
      "160,100,83\n",
      "160,200,83\n",
      "160,300,91\n",
      "160,400,98\n",
      "160,500,89\n",
      "160,600,79\n"
     ]
    },
    {
     "data": {
      "text/plain": [
       "undefined"
      ]
     },
     "execution_count": 7,
     "metadata": {},
     "output_type": "execute_result"
    }
   ],
   "source": [
    "{\n",
    "    const readFile = filename => require('fs').readFileSync(`./data/${filename}`, {encoding:'UTF-8'});\n",
    "    const csvToObj = csv => {\n",
    "        const [header, ...body]= _.map(csv.split('\\n'), v=>v.split(','));\n",
    "        return _.map(body, data=>_.reduce(data, (m, v, i)=>(m[header[i]]=v,m),{}));\n",
    "    };\n",
    "    const readCSV = _.compose(csvToObj, readFile);\n",
    "    const makeScore = () => Math.floor(Math.random() * 41 + 60);\n",
    "    \n",
    "    const student = readCSV('학생.csv');\n",
    "    const subject = readCSV('교과목.csv');\n",
    "    \n",
    "    for(const i of student) {\n",
    "        for(const j of subject) {\n",
    "            console.log(`${i['학번']},${j['교과번호']},${makeScore()}`);\n",
    "        }\n",
    "    }\n",
    "}"
   ]
  },
  {
   "cell_type": "markdown",
   "metadata": {},
   "source": [
    "__3.1 다른 순환 방법__\n",
    "  - _.each"
   ]
  },
  {
   "cell_type": "code",
   "execution_count": 8,
   "metadata": {},
   "outputs": [
    {
     "name": "stdout",
     "output_type": "stream",
     "text": [
      "100,100,61\n",
      "100,200,77\n",
      "100,300,86\n",
      "100,400,97\n",
      "100,500,66\n",
      "100,600,77\n",
      "110,100,76\n",
      "110,200,96\n",
      "110,300,78\n",
      "110,400,86\n",
      "110,500,72\n",
      "110,600,67\n",
      "120,100,98\n",
      "120,200,84\n",
      "120,300,75\n",
      "120,400,89\n",
      "120,500,68\n",
      "120,600,67\n",
      "130,100,64\n",
      "130,200,80\n",
      "130,300,67\n",
      "130,400,76\n",
      "130,500,63\n",
      "130,600,81\n",
      "140,100,73\n",
      "140,200,87\n",
      "140,300,79\n",
      "140,400,88\n",
      "140,500,84\n",
      "140,600,79\n",
      "150,100,91\n",
      "150,200,97\n",
      "150,300,73\n",
      "150,400,97\n",
      "150,500,91\n",
      "150,600,60\n",
      "160,100,74\n",
      "160,200,85\n",
      "160,300,76\n",
      "160,400,70\n",
      "160,500,77\n",
      "160,600,61\n",
      "end\n"
     ]
    },
    {
     "data": {
      "text/plain": [
       "undefined"
      ]
     },
     "execution_count": 8,
     "metadata": {},
     "output_type": "execute_result"
    }
   ],
   "source": [
    "{\n",
    "    const readFile = filename => require('fs').readFileSync(`./data/${filename}`, {encoding:'UTF-8'});\n",
    "    const csvToObj = csv => {\n",
    "        const [header, ...body]= _.map(csv.split('\\n'), v=>v.split(','));\n",
    "        return _.map(body, data=>_.reduce(data, (m, v, i)=>(m[header[i]]=v,m),{}));\n",
    "    };\n",
    "    const readCSV = _.compose(csvToObj, readFile);\n",
    "    const makeScore = () => Math.floor(Math.random() * 41 + 60);\n",
    "    \n",
    "    const student = readCSV('학생.csv');\n",
    "    const subject = readCSV('교과목.csv');\n",
    "    \n",
    "    _.each(student, i => {\n",
    "       _.each(subject, j => {\n",
    "           console.log(`${i['학번']},${j['교과번호']},${makeScore()}`);\n",
    "       });\n",
    "    });\n",
    "    console.log('end');\n",
    "}"
   ]
  },
  {
   "cell_type": "markdown",
   "metadata": {},
   "source": [
    "__4.0 시험 더미 파일 생성__"
   ]
  },
  {
   "cell_type": "code",
   "execution_count": 10,
   "metadata": {},
   "outputs": [
    {
     "name": "stdout",
     "output_type": "stream",
     "text": [
      "[\n",
      "  { '학번': '100', '교과번호': '100', '점수': '76' },\n",
      "  { '학번': '100', '교과번호': '200', '점수': '86' },\n",
      "  { '학번': '100', '교과번호': '300', '점수': '80' },\n",
      "  { '학번': '100', '교과번호': '400', '점수': '74' },\n",
      "  { '학번': '100', '교과번호': '500', '점수': '64' },\n",
      "  { '학번': '100', '교과번호': '600', '점수': '89' },\n",
      "  { '학번': '110', '교과번호': '100', '점수': '85' },\n",
      "  { '학번': '110', '교과번호': '200', '점수': '88' },\n",
      "  { '학번': '110', '교과번호': '300', '점수': '74' },\n",
      "  { '학번': '110', '교과번호': '400', '점수': '61' },\n",
      "  { '학번': '110', '교과번호': '500', '점수': '91' },\n",
      "  { '학번': '110', '교과번호': '600', '점수': '75' },\n",
      "  { '학번': '120', '교과번호': '100', '점수': '64' },\n",
      "  { '학번': '120', '교과번호': '200', '점수': '95' },\n",
      "  { '학번': '120', '교과번호': '300', '점수': '65' },\n",
      "  { '학번': '120', '교과번호': '400', '점수': '68' },\n",
      "  { '학번': '120', '교과번호': '500', '점수': '83' },\n",
      "  { '학번': '120', '교과번호': '600', '점수': '77' },\n",
      "  { '학번': '130', '교과번호': '100', '점수': '97' },\n",
      "  { '학번': '130', '교과번호': '200', '점수': '78' },\n",
      "  { '학번': '130', '교과번호': '300', '점수': '91' },\n",
      "  { '학번': '130', '교과번호': '400', '점수': '94' },\n",
      "  { '학번': '130', '교과번호': '500', '점수': '100' },\n",
      "  { '학번': '130', '교과번호': '600', '점수': '93' },\n",
      "  { '학번': '140', '교과번호': '100', '점수': '86' },\n",
      "  { '학번': '140', '교과번호': '200', '점수': '70' },\n",
      "  { '학번': '140', '교과번호': '300', '점수': '84' },\n",
      "  { '학번': '140', '교과번호': '400', '점수': '68' },\n",
      "  { '학번': '140', '교과번호': '500', '점수': '68' },\n",
      "  { '학번': '140', '교과번호': '600', '점수': '66' },\n",
      "  { '학번': '150', '교과번호': '100', '점수': '78' },\n",
      "  { '학번': '150', '교과번호': '200', '점수': '63' },\n",
      "  { '학번': '150', '교과번호': '300', '점수': '63' },\n",
      "  { '학번': '150', '교과번호': '400', '점수': '77' },\n",
      "  { '학번': '150', '교과번호': '500', '점수': '87' },\n",
      "  { '학번': '150', '교과번호': '600', '점수': '95' },\n",
      "  { '학번': '160', '교과번호': '100', '점수': '98' },\n",
      "  { '학번': '160', '교과번호': '200', '점수': '61' },\n",
      "  { '학번': '160', '교과번호': '300', '점수': '79' },\n",
      "  { '학번': '160', '교과번호': '400', '점수': '63' },\n",
      "  { '학번': '160', '교과번호': '500', '점수': '87' },\n",
      "  { '학번': '160', '교과번호': '600', '점수': '76' }\n",
      "]\n"
     ]
    },
    {
     "data": {
      "text/plain": [
       "undefined"
      ]
     },
     "execution_count": 10,
     "metadata": {},
     "output_type": "execute_result"
    }
   ],
   "source": [
    "{\n",
    "    const fs = require('fs');\n",
    "    const readFile = filename => fs.readFileSync(`./data/${filename}`, {encoding:'UTF-8'});\n",
    "    const saveFile = (filename, data) => fs.writeFileSync(`./data/${filename}`, data, {encoding:'UTF-8'});\n",
    "    const csvToObj = csv => {\n",
    "        const [header, ...body]= _.map(csv.split('\\n'), v=>v.split(','));\n",
    "        return _.map(body, data=>_.reduce(data, (m, v, i)=>(m[header[i]]=v,m),{}));\n",
    "    };\n",
    "    const readCSV = _.compose(csvToObj, readFile);\n",
    "    const makeScore = () => Math.floor(Math.random() * 41 + 60);\n",
    "    \n",
    "    const student = readCSV('학생.csv');\n",
    "    const subject = readCSV('교과목.csv');\n",
    "    \n",
    "    const buffer = [];\n",
    "    buffer.push(`학번,교과번호,점수`);\n",
    "    _.each(student, i => {\n",
    "       _.each(subject, j => {\n",
    "           buffer.push(`${i['학번']},${j['교과번호']},${makeScore()}`);\n",
    "       });\n",
    "    });\n",
    "    saveFile('성적.csv', buffer.join('\\n'));\n",
    "    \n",
    "    console.log(readCSV('성적.csv'));\n",
    "}"
   ]
  },
  {
   "cell_type": "code",
   "execution_count": null,
   "metadata": {},
   "outputs": [],
   "source": []
  }
 ],
 "metadata": {
  "kernelspec": {
   "display_name": "Javascript (Node.js)",
   "language": "javascript",
   "name": "javascript"
  },
  "language_info": {
   "file_extension": ".js",
   "mimetype": "application/javascript",
   "name": "javascript",
   "version": "12.14.0"
  }
 },
 "nbformat": 4,
 "nbformat_minor": 4
}
